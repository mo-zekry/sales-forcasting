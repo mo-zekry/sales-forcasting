{
 "cells": [
  {
   "cell_type": "markdown",
   "id": "fdcea55d",
   "metadata": {
    "papermill": {
     "duration": 0.024668,
     "end_time": "2023-07-27T12:39:44.741785",
     "exception": false,
     "start_time": "2023-07-27T12:39:44.717117",
     "status": "completed"
    },
    "tags": []
   },
   "source": [
    "# Import Lib"
   ]
  },
  {
   "cell_type": "code",
   "execution_count": 1,
   "id": "386d0873",
   "metadata": {
    "execution": {
     "iopub.execute_input": "2023-07-27T12:39:44.792201Z",
     "iopub.status.busy": "2023-07-27T12:39:44.791568Z",
     "iopub.status.idle": "2023-07-27T12:39:49.698656Z",
     "shell.execute_reply": "2023-07-27T12:39:49.697375Z"
    },
    "papermill": {
     "duration": 4.936908,
     "end_time": "2023-07-27T12:39:49.702395",
     "exception": false,
     "start_time": "2023-07-27T12:39:44.765487",
     "status": "completed"
    },
    "tags": []
   },
   "outputs": [
    {
     "name": "stderr",
     "output_type": "stream",
     "text": [
      "/opt/conda/lib/python3.10/site-packages/scipy/__init__.py:146: UserWarning: A NumPy version >=1.16.5 and <1.23.0 is required for this version of SciPy (detected version 1.23.5\n",
      "  warnings.warn(f\"A NumPy version >={np_minversion} and <{np_maxversion}\"\n"
     ]
    }
   ],
   "source": [
    "# Basic\n",
    "import numpy as np\n",
    "import pandas as pd\n",
    "\n",
    "# Visalizaton\n",
    "import seaborn as sns\n",
    "import matplotlib.pyplot as plt\n",
    "\n",
    "# Data Preprosessing\n",
    "from datetime import date\n",
    "import holidays\n",
    "\n",
    "# Models\n",
    "from sklearn.preprocessing import StandardScaler\n",
    "from sklearn.linear_model import LinearRegression\n",
    "from sklearn.ensemble import RandomForestRegressor\n",
    "from sklearn.ensemble import GradientBoostingRegressor\n",
    "from sklearn.ensemble import AdaBoostRegressor\n",
    "from xgboost import XGBRegressor\n",
    "from lightgbm import LGBMRegressor\n",
    "from catboost import CatBoostRegressor\n",
    "\n",
    "# Ensemble\n",
    "from sklearn.ensemble import VotingRegressor\n",
    "# Cross-validation\n",
    "from sklearn.model_selection import cross_val_score\n",
    "\n",
    "# Ignore warings\n",
    "import warnings\n",
    "warnings.filterwarnings('ignore')"
   ]
  },
  {
   "cell_type": "markdown",
   "id": "70f00882",
   "metadata": {
    "papermill": {
     "duration": 0.023957,
     "end_time": "2023-07-27T12:39:49.751131",
     "exception": false,
     "start_time": "2023-07-27T12:39:49.727174",
     "status": "completed"
    },
    "tags": []
   },
   "source": [
    "# Import Data"
   ]
  },
  {
   "cell_type": "code",
   "execution_count": 2,
   "id": "c78c5e07",
   "metadata": {
    "execution": {
     "iopub.execute_input": "2023-07-27T12:39:49.803210Z",
     "iopub.status.busy": "2023-07-27T12:39:49.802195Z",
     "iopub.status.idle": "2023-07-27T12:39:50.189524Z",
     "shell.execute_reply": "2023-07-27T12:39:50.188479Z"
    },
    "papermill": {
     "duration": 0.416852,
     "end_time": "2023-07-27T12:39:50.192758",
     "exception": false,
     "start_time": "2023-07-27T12:39:49.775906",
     "status": "completed"
    },
    "tags": []
   },
   "outputs": [],
   "source": [
    "train = pd.read_csv('train.csv')\n",
    "test = pd.read_csv('test.csv')\n",
    "combine=[train,test]"
   ]
  },
  {
   "cell_type": "markdown",
   "id": "ce4c9159",
   "metadata": {
    "papermill": {
     "duration": 0.023336,
     "end_time": "2023-07-27T12:39:50.240320",
     "exception": false,
     "start_time": "2023-07-27T12:39:50.216984",
     "status": "completed"
    },
    "tags": []
   },
   "source": [
    "# Basic Infromation from data"
   ]
  },
  {
   "cell_type": "code",
   "execution_count": 3,
   "id": "08035586",
   "metadata": {
    "execution": {
     "iopub.execute_input": "2023-07-27T12:39:50.291427Z",
     "iopub.status.busy": "2023-07-27T12:39:50.290382Z",
     "iopub.status.idle": "2023-07-27T12:39:50.317841Z",
     "shell.execute_reply": "2023-07-27T12:39:50.316552Z"
    },
    "papermill": {
     "duration": 0.057012,
     "end_time": "2023-07-27T12:39:50.321293",
     "exception": false,
     "start_time": "2023-07-27T12:39:50.264281",
     "status": "completed"
    },
    "tags": []
   },
   "outputs": [
    {
     "data": {
      "text/html": [
       "<div>\n",
       "<style scoped>\n",
       "    .dataframe tbody tr th:only-of-type {\n",
       "        vertical-align: middle;\n",
       "    }\n",
       "\n",
       "    .dataframe tbody tr th {\n",
       "        vertical-align: top;\n",
       "    }\n",
       "\n",
       "    .dataframe thead th {\n",
       "        text-align: right;\n",
       "    }\n",
       "</style>\n",
       "<table border=\"1\" class=\"dataframe\">\n",
       "  <thead>\n",
       "    <tr style=\"text-align: right;\">\n",
       "      <th></th>\n",
       "      <th>id</th>\n",
       "      <th>date</th>\n",
       "      <th>country</th>\n",
       "      <th>store</th>\n",
       "      <th>product</th>\n",
       "      <th>num_sold</th>\n",
       "    </tr>\n",
       "  </thead>\n",
       "  <tbody>\n",
       "    <tr>\n",
       "      <th>0</th>\n",
       "      <td>0</td>\n",
       "      <td>2017-01-01</td>\n",
       "      <td>Argentina</td>\n",
       "      <td>Kaggle Learn</td>\n",
       "      <td>Using LLMs to Improve Your Coding</td>\n",
       "      <td>63</td>\n",
       "    </tr>\n",
       "    <tr>\n",
       "      <th>1</th>\n",
       "      <td>1</td>\n",
       "      <td>2017-01-01</td>\n",
       "      <td>Argentina</td>\n",
       "      <td>Kaggle Learn</td>\n",
       "      <td>Using LLMs to Train More LLMs</td>\n",
       "      <td>66</td>\n",
       "    </tr>\n",
       "    <tr>\n",
       "      <th>2</th>\n",
       "      <td>2</td>\n",
       "      <td>2017-01-01</td>\n",
       "      <td>Argentina</td>\n",
       "      <td>Kaggle Learn</td>\n",
       "      <td>Using LLMs to Win Friends and Influence People</td>\n",
       "      <td>9</td>\n",
       "    </tr>\n",
       "    <tr>\n",
       "      <th>3</th>\n",
       "      <td>3</td>\n",
       "      <td>2017-01-01</td>\n",
       "      <td>Argentina</td>\n",
       "      <td>Kaggle Learn</td>\n",
       "      <td>Using LLMs to Win More Kaggle Competitions</td>\n",
       "      <td>59</td>\n",
       "    </tr>\n",
       "    <tr>\n",
       "      <th>4</th>\n",
       "      <td>4</td>\n",
       "      <td>2017-01-01</td>\n",
       "      <td>Argentina</td>\n",
       "      <td>Kaggle Learn</td>\n",
       "      <td>Using LLMs to Write Better</td>\n",
       "      <td>49</td>\n",
       "    </tr>\n",
       "  </tbody>\n",
       "</table>\n",
       "</div>"
      ],
      "text/plain": [
       "   id        date    country         store  \\\n",
       "0   0  2017-01-01  Argentina  Kaggle Learn   \n",
       "1   1  2017-01-01  Argentina  Kaggle Learn   \n",
       "2   2  2017-01-01  Argentina  Kaggle Learn   \n",
       "3   3  2017-01-01  Argentina  Kaggle Learn   \n",
       "4   4  2017-01-01  Argentina  Kaggle Learn   \n",
       "\n",
       "                                          product  num_sold  \n",
       "0               Using LLMs to Improve Your Coding        63  \n",
       "1                   Using LLMs to Train More LLMs        66  \n",
       "2  Using LLMs to Win Friends and Influence People         9  \n",
       "3      Using LLMs to Win More Kaggle Competitions        59  \n",
       "4                      Using LLMs to Write Better        49  "
      ]
     },
     "execution_count": 3,
     "metadata": {},
     "output_type": "execute_result"
    }
   ],
   "source": [
    "train.head()"
   ]
  },
  {
   "cell_type": "code",
   "execution_count": 4,
   "id": "50e71f19",
   "metadata": {
    "execution": {
     "iopub.execute_input": "2023-07-27T12:39:50.372288Z",
     "iopub.status.busy": "2023-07-27T12:39:50.371774Z",
     "iopub.status.idle": "2023-07-27T12:39:50.386893Z",
     "shell.execute_reply": "2023-07-27T12:39:50.385560Z"
    },
    "papermill": {
     "duration": 0.0446,
     "end_time": "2023-07-27T12:39:50.390127",
     "exception": false,
     "start_time": "2023-07-27T12:39:50.345527",
     "status": "completed"
    },
    "tags": []
   },
   "outputs": [
    {
     "data": {
      "text/html": [
       "<div>\n",
       "<style scoped>\n",
       "    .dataframe tbody tr th:only-of-type {\n",
       "        vertical-align: middle;\n",
       "    }\n",
       "\n",
       "    .dataframe tbody tr th {\n",
       "        vertical-align: top;\n",
       "    }\n",
       "\n",
       "    .dataframe thead th {\n",
       "        text-align: right;\n",
       "    }\n",
       "</style>\n",
       "<table border=\"1\" class=\"dataframe\">\n",
       "  <thead>\n",
       "    <tr style=\"text-align: right;\">\n",
       "      <th></th>\n",
       "      <th>id</th>\n",
       "      <th>date</th>\n",
       "      <th>country</th>\n",
       "      <th>store</th>\n",
       "      <th>product</th>\n",
       "    </tr>\n",
       "  </thead>\n",
       "  <tbody>\n",
       "    <tr>\n",
       "      <th>0</th>\n",
       "      <td>136950</td>\n",
       "      <td>2022-01-01</td>\n",
       "      <td>Argentina</td>\n",
       "      <td>Kaggle Learn</td>\n",
       "      <td>Using LLMs to Improve Your Coding</td>\n",
       "    </tr>\n",
       "    <tr>\n",
       "      <th>1</th>\n",
       "      <td>136951</td>\n",
       "      <td>2022-01-01</td>\n",
       "      <td>Argentina</td>\n",
       "      <td>Kaggle Learn</td>\n",
       "      <td>Using LLMs to Train More LLMs</td>\n",
       "    </tr>\n",
       "  </tbody>\n",
       "</table>\n",
       "</div>"
      ],
      "text/plain": [
       "       id        date    country         store  \\\n",
       "0  136950  2022-01-01  Argentina  Kaggle Learn   \n",
       "1  136951  2022-01-01  Argentina  Kaggle Learn   \n",
       "\n",
       "                             product  \n",
       "0  Using LLMs to Improve Your Coding  \n",
       "1      Using LLMs to Train More LLMs  "
      ]
     },
     "execution_count": 4,
     "metadata": {},
     "output_type": "execute_result"
    }
   ],
   "source": [
    "test.head(2)"
   ]
  },
  {
   "cell_type": "code",
   "execution_count": 5,
   "id": "ca90b58a",
   "metadata": {
    "execution": {
     "iopub.execute_input": "2023-07-27T12:39:50.443645Z",
     "iopub.status.busy": "2023-07-27T12:39:50.442859Z",
     "iopub.status.idle": "2023-07-27T12:39:50.653427Z",
     "shell.execute_reply": "2023-07-27T12:39:50.652076Z"
    },
    "papermill": {
     "duration": 0.241621,
     "end_time": "2023-07-27T12:39:50.656592",
     "exception": false,
     "start_time": "2023-07-27T12:39:50.414971",
     "status": "completed"
    },
    "tags": []
   },
   "outputs": [
    {
     "name": "stdout",
     "output_type": "stream",
     "text": [
      "<class 'pandas.core.frame.DataFrame'>\n",
      "RangeIndex: 136950 entries, 0 to 136949\n",
      "Data columns (total 6 columns):\n",
      " #   Column    Non-Null Count   Dtype \n",
      "---  ------    --------------   ----- \n",
      " 0   id        136950 non-null  int64 \n",
      " 1   date      136950 non-null  object\n",
      " 2   country   136950 non-null  object\n",
      " 3   store     136950 non-null  object\n",
      " 4   product   136950 non-null  object\n",
      " 5   num_sold  136950 non-null  int64 \n",
      "dtypes: int64(2), object(4)\n",
      "memory usage: 6.3+ MB\n"
     ]
    }
   ],
   "source": [
    "train.info()"
   ]
  },
  {
   "cell_type": "code",
   "execution_count": 6,
   "id": "b9e745fd",
   "metadata": {
    "execution": {
     "iopub.execute_input": "2023-07-27T12:39:50.708270Z",
     "iopub.status.busy": "2023-07-27T12:39:50.707786Z",
     "iopub.status.idle": "2023-07-27T12:39:50.740341Z",
     "shell.execute_reply": "2023-07-27T12:39:50.738852Z"
    },
    "papermill": {
     "duration": 0.061723,
     "end_time": "2023-07-27T12:39:50.743403",
     "exception": false,
     "start_time": "2023-07-27T12:39:50.681680",
     "status": "completed"
    },
    "tags": []
   },
   "outputs": [
    {
     "data": {
      "text/plain": [
       "Argentina    27390\n",
       "Canada       27390\n",
       "Estonia      27390\n",
       "Japan        27390\n",
       "Spain        27390\n",
       "Name: country, dtype: int64"
      ]
     },
     "execution_count": 6,
     "metadata": {},
     "output_type": "execute_result"
    }
   ],
   "source": [
    "# country in the dataset\n",
    "train.country.value_counts()"
   ]
  },
  {
   "cell_type": "code",
   "execution_count": 7,
   "id": "5514dc35",
   "metadata": {
    "execution": {
     "iopub.execute_input": "2023-07-27T12:39:50.796437Z",
     "iopub.status.busy": "2023-07-27T12:39:50.795907Z",
     "iopub.status.idle": "2023-07-27T12:39:50.825991Z",
     "shell.execute_reply": "2023-07-27T12:39:50.824547Z"
    },
    "papermill": {
     "duration": 0.060283,
     "end_time": "2023-07-27T12:39:50.828722",
     "exception": false,
     "start_time": "2023-07-27T12:39:50.768439",
     "status": "completed"
    },
    "tags": []
   },
   "outputs": [
    {
     "data": {
      "text/plain": [
       "Kaggle Learn    45650\n",
       "Kaggle Store    45650\n",
       "Kagglazon       45650\n",
       "Name: store, dtype: int64"
      ]
     },
     "execution_count": 7,
     "metadata": {},
     "output_type": "execute_result"
    }
   ],
   "source": [
    "# differnt stores present in data\n",
    "train.store.value_counts()"
   ]
  },
  {
   "cell_type": "code",
   "execution_count": 8,
   "id": "730b7f44",
   "metadata": {
    "execution": {
     "iopub.execute_input": "2023-07-27T12:39:50.880658Z",
     "iopub.status.busy": "2023-07-27T12:39:50.880130Z",
     "iopub.status.idle": "2023-07-27T12:39:50.909214Z",
     "shell.execute_reply": "2023-07-27T12:39:50.907508Z"
    },
    "papermill": {
     "duration": 0.058703,
     "end_time": "2023-07-27T12:39:50.912296",
     "exception": false,
     "start_time": "2023-07-27T12:39:50.853593",
     "status": "completed"
    },
    "tags": []
   },
   "outputs": [
    {
     "data": {
      "text/plain": [
       "Using LLMs to Improve Your Coding                 27390\n",
       "Using LLMs to Train More LLMs                     27390\n",
       "Using LLMs to Win Friends and Influence People    27390\n",
       "Using LLMs to Win More Kaggle Competitions        27390\n",
       "Using LLMs to Write Better                        27390\n",
       "Name: product, dtype: int64"
      ]
     },
     "execution_count": 8,
     "metadata": {},
     "output_type": "execute_result"
    }
   ],
   "source": [
    "# differnt product present in the dataset\n",
    "train['product'].value_counts()"
   ]
  },
  {
   "cell_type": "markdown",
   "id": "08dd773f",
   "metadata": {
    "papermill": {
     "duration": 0.024059,
     "end_time": "2023-07-27T12:39:50.961161",
     "exception": false,
     "start_time": "2023-07-27T12:39:50.937102",
     "status": "completed"
    },
    "tags": []
   },
   "source": [
    "# EDA"
   ]
  },
  {
   "cell_type": "markdown",
   "id": "1bd03f74",
   "metadata": {
    "papermill": {
     "duration": 0.025664,
     "end_time": "2023-07-27T12:39:51.011971",
     "exception": false,
     "start_time": "2023-07-27T12:39:50.986307",
     "status": "completed"
    },
    "tags": []
   },
   "source": [
    "## Date column changes"
   ]
  },
  {
   "cell_type": "code",
   "execution_count": 9,
   "id": "ed800fbd",
   "metadata": {
    "execution": {
     "iopub.execute_input": "2023-07-27T12:39:51.063990Z",
     "iopub.status.busy": "2023-07-27T12:39:51.063417Z",
     "iopub.status.idle": "2023-07-27T12:39:51.429865Z",
     "shell.execute_reply": "2023-07-27T12:39:51.428549Z"
    },
    "papermill": {
     "duration": 0.396313,
     "end_time": "2023-07-27T12:39:51.433081",
     "exception": false,
     "start_time": "2023-07-27T12:39:51.036768",
     "status": "completed"
    },
    "tags": []
   },
   "outputs": [],
   "source": [
    "for data in combine:\n",
    "    data['date']=pd.to_datetime(data.date)\n",
    "\n",
    "    data['month']=data['date'].dt.month\n",
    "    data['day'] = data['date'].dt.day\n",
    "    data['day_of_week']=data.date.dt.day_of_week\n",
    "    data['year'] = data['date'].dt.year\n",
    "\n",
    "    data['quarter'] = data['date'].dt.quarter\n",
    "    data['weekofyear'] = data['date'].dt.isocalendar().week\n",
    "    data[\"dayofyear\"] = data['date'].dt.dayofyear\n",
    "    data[\"is_month_end\"] = data[\"date\"].dt.is_month_end\n",
    "    data[\"is_month_start\"] = data[\"date\"].dt.is_month_start\n",
    "    data[\"is_year_end\"] = data[\"date\"].dt.is_year_end\n",
    "    data[\"is_year_start\"] = data[\"date\"].dt.is_year_start\n"
   ]
  },
  {
   "cell_type": "markdown",
   "id": "3f3aca6e",
   "metadata": {
    "papermill": {
     "duration": 0.024467,
     "end_time": "2023-07-27T12:39:51.483527",
     "exception": false,
     "start_time": "2023-07-27T12:39:51.459060",
     "status": "completed"
    },
    "tags": []
   },
   "source": [
    "## Num_sold per year"
   ]
  },
  {
   "cell_type": "code",
   "execution_count": 10,
   "id": "333b5f23",
   "metadata": {
    "execution": {
     "iopub.execute_input": "2023-07-27T12:39:51.536942Z",
     "iopub.status.busy": "2023-07-27T12:39:51.536381Z",
     "iopub.status.idle": "2023-07-27T12:39:51.557296Z",
     "shell.execute_reply": "2023-07-27T12:39:51.556013Z"
    },
    "papermill": {
     "duration": 0.051487,
     "end_time": "2023-07-27T12:39:51.560130",
     "exception": false,
     "start_time": "2023-07-27T12:39:51.508643",
     "status": "completed"
    },
    "tags": []
   },
   "outputs": [
    {
     "data": {
      "text/html": [
       "<div>\n",
       "<style scoped>\n",
       "    .dataframe tbody tr th:only-of-type {\n",
       "        vertical-align: middle;\n",
       "    }\n",
       "\n",
       "    .dataframe tbody tr th {\n",
       "        vertical-align: top;\n",
       "    }\n",
       "\n",
       "    .dataframe thead th {\n",
       "        text-align: right;\n",
       "    }\n",
       "</style>\n",
       "<table border=\"1\" class=\"dataframe\">\n",
       "  <thead>\n",
       "    <tr style=\"text-align: right;\">\n",
       "      <th></th>\n",
       "      <th>year</th>\n",
       "      <th>num_sold</th>\n",
       "    </tr>\n",
       "  </thead>\n",
       "  <tbody>\n",
       "    <tr>\n",
       "      <th>0</th>\n",
       "      <td>2017</td>\n",
       "      <td>4451213</td>\n",
       "    </tr>\n",
       "    <tr>\n",
       "      <th>1</th>\n",
       "      <td>2018</td>\n",
       "      <td>4723963</td>\n",
       "    </tr>\n",
       "    <tr>\n",
       "      <th>2</th>\n",
       "      <td>2019</td>\n",
       "      <td>4522172</td>\n",
       "    </tr>\n",
       "    <tr>\n",
       "      <th>3</th>\n",
       "      <td>2020</td>\n",
       "      <td>4086498</td>\n",
       "    </tr>\n",
       "    <tr>\n",
       "      <th>4</th>\n",
       "      <td>2021</td>\n",
       "      <td>4884479</td>\n",
       "    </tr>\n",
       "  </tbody>\n",
       "</table>\n",
       "</div>"
      ],
      "text/plain": [
       "   year  num_sold\n",
       "0  2017   4451213\n",
       "1  2018   4723963\n",
       "2  2019   4522172\n",
       "3  2020   4086498\n",
       "4  2021   4884479"
      ]
     },
     "execution_count": 10,
     "metadata": {},
     "output_type": "execute_result"
    }
   ],
   "source": [
    "# grouping by year to see num_sold\n",
    "a = train.groupby('year')['num_sold'].sum().reset_index()\n",
    "a"
   ]
  },
  {
   "cell_type": "code",
   "execution_count": 11,
   "id": "a7041a7f",
   "metadata": {
    "execution": {
     "iopub.execute_input": "2023-07-27T12:39:51.614531Z",
     "iopub.status.busy": "2023-07-27T12:39:51.613618Z",
     "iopub.status.idle": "2023-07-27T12:39:52.462982Z",
     "shell.execute_reply": "2023-07-27T12:39:52.461874Z"
    },
    "papermill": {
     "duration": 0.880038,
     "end_time": "2023-07-27T12:39:52.466002",
     "exception": false,
     "start_time": "2023-07-27T12:39:51.585964",
     "status": "completed"
    },
    "tags": []
   },
   "outputs": [
    {
     "data": {
      "text/plain": [
       "Text(0.5, 1.0, 'Time series Graph for num_sold yearwise')"
      ]
     },
     "execution_count": 11,
     "metadata": {},
     "output_type": "execute_result"
    },
    {
     "data": {
      "image/png": "[encoded data removed]",
      "text/plain": [
       "<Figure size 1400x500 with 1 Axes>"
      ]
     },
     "metadata": {},
     "output_type": "display_data"
    }
   ],
   "source": [
    "# plot for num_sold vs year\n",
    "plt.figure(figsize=(14,5))\n",
    "sns.set_style('darkgrid')\n",
    "sns.lineplot(data=a,x='year',y='num_sold',markers='<')\n",
    "plt.tight_layout()\n",
    "plt.title('Time series Graph for num_sold yearwise')\n"
   ]
  },
  {
   "cell_type": "markdown",
   "id": "bba0d2a1",
   "metadata": {
    "papermill": {
     "duration": 0.026425,
     "end_time": "2023-07-27T12:39:52.519121",
     "exception": false,
     "start_time": "2023-07-27T12:39:52.492696",
     "status": "completed"
    },
    "tags": []
   },
   "source": [
    "## Num_sold per Month"
   ]
  },
  {
   "cell_type": "code",
   "execution_count": 12,
   "id": "3f6563d9",
   "metadata": {
    "execution": {
     "iopub.execute_input": "2023-07-27T12:39:52.575419Z",
     "iopub.status.busy": "2023-07-27T12:39:52.574088Z",
     "iopub.status.idle": "2023-07-27T12:39:52.600744Z",
     "shell.execute_reply": "2023-07-27T12:39:52.599393Z"
    },
    "papermill": {
     "duration": 0.057995,
     "end_time": "2023-07-27T12:39:52.603601",
     "exception": false,
     "start_time": "2023-07-27T12:39:52.545606",
     "status": "completed"
    },
    "tags": []
   },
   "outputs": [
    {
     "data": {
      "text/html": [
       "<div>\n",
       "<style scoped>\n",
       "    .dataframe tbody tr th:only-of-type {\n",
       "        vertical-align: middle;\n",
       "    }\n",
       "\n",
       "    .dataframe tbody tr th {\n",
       "        vertical-align: top;\n",
       "    }\n",
       "\n",
       "    .dataframe thead th {\n",
       "        text-align: right;\n",
       "    }\n",
       "</style>\n",
       "<table border=\"1\" class=\"dataframe\">\n",
       "  <thead>\n",
       "    <tr style=\"text-align: right;\">\n",
       "      <th></th>\n",
       "      <th>month</th>\n",
       "      <th>num_sold</th>\n",
       "    </tr>\n",
       "  </thead>\n",
       "  <tbody>\n",
       "    <tr>\n",
       "      <th>0</th>\n",
       "      <td>January</td>\n",
       "      <td>2042783</td>\n",
       "    </tr>\n",
       "    <tr>\n",
       "      <th>1</th>\n",
       "      <td>February</td>\n",
       "      <td>1782267</td>\n",
       "    </tr>\n",
       "    <tr>\n",
       "      <th>2</th>\n",
       "      <td>March</td>\n",
       "      <td>1905982</td>\n",
       "    </tr>\n",
       "    <tr>\n",
       "      <th>3</th>\n",
       "      <td>April</td>\n",
       "      <td>1764963</td>\n",
       "    </tr>\n",
       "    <tr>\n",
       "      <th>4</th>\n",
       "      <td>May</td>\n",
       "      <td>1866246</td>\n",
       "    </tr>\n",
       "    <tr>\n",
       "      <th>5</th>\n",
       "      <td>June</td>\n",
       "      <td>1779787</td>\n",
       "    </tr>\n",
       "    <tr>\n",
       "      <th>6</th>\n",
       "      <td>July</td>\n",
       "      <td>1858402</td>\n",
       "    </tr>\n",
       "    <tr>\n",
       "      <th>7</th>\n",
       "      <td>August</td>\n",
       "      <td>1867996</td>\n",
       "    </tr>\n",
       "    <tr>\n",
       "      <th>8</th>\n",
       "      <td>September</td>\n",
       "      <td>1833097</td>\n",
       "    </tr>\n",
       "    <tr>\n",
       "      <th>9</th>\n",
       "      <td>October</td>\n",
       "      <td>1924133</td>\n",
       "    </tr>\n",
       "    <tr>\n",
       "      <th>10</th>\n",
       "      <td>November</td>\n",
       "      <td>1909588</td>\n",
       "    </tr>\n",
       "    <tr>\n",
       "      <th>11</th>\n",
       "      <td>December</td>\n",
       "      <td>2133081</td>\n",
       "    </tr>\n",
       "  </tbody>\n",
       "</table>\n",
       "</div>"
      ],
      "text/plain": [
       "        month  num_sold\n",
       "0     January   2042783\n",
       "1    February   1782267\n",
       "2       March   1905982\n",
       "3       April   1764963\n",
       "4         May   1866246\n",
       "5        June   1779787\n",
       "6        July   1858402\n",
       "7      August   1867996\n",
       "8   September   1833097\n",
       "9     October   1924133\n",
       "10   November   1909588\n",
       "11   December   2133081"
      ]
     },
     "execution_count": 12,
     "metadata": {},
     "output_type": "execute_result"
    }
   ],
   "source": [
    "months={1:'January',2:'February',3:'March',4:'April',5:'May',6:'June',7:'July',8:'August',9:'September',10:'October',11:'November',12:'December'}\n",
    "df = train.groupby('month')['num_sold'].sum().reset_index()\n",
    "df['month'] = df['month'].map(months)\n",
    "df"
   ]
  },
  {
   "cell_type": "code",
   "execution_count": 13,
   "id": "c6c01c8a",
   "metadata": {
    "execution": {
     "iopub.execute_input": "2023-07-27T12:39:52.660904Z",
     "iopub.status.busy": "2023-07-27T12:39:52.659725Z",
     "iopub.status.idle": "2023-07-27T12:39:53.447070Z",
     "shell.execute_reply": "2023-07-27T12:39:53.445585Z"
    },
    "papermill": {
     "duration": 0.820551,
     "end_time": "2023-07-27T12:39:53.450430",
     "exception": false,
     "start_time": "2023-07-27T12:39:52.629879",
     "status": "completed"
    },
    "tags": []
   },
   "outputs": [
    {
     "data": {
      "image/png": "[encoded data removed]",
      "text/plain": [
       "<Figure size 1400x500 with 1 Axes>"
      ]
     },
     "metadata": {},
     "output_type": "display_data"
    }
   ],
   "source": [
    "# plot for num_sold per month\n",
    "plt.figure(figsize=(14,5))\n",
    "sns.lineplot(data=df,x='month',y='num_sold')\n",
    "plt.title('Time Series Graph for num_sold per month')\n",
    "plt.tight_layout()"
   ]
  },
  {
   "cell_type": "markdown",
   "id": "b3136231",
   "metadata": {
    "papermill": {
     "duration": 0.027844,
     "end_time": "2023-07-27T12:39:53.507087",
     "exception": false,
     "start_time": "2023-07-27T12:39:53.479243",
     "status": "completed"
    },
    "tags": []
   },
   "source": [
    "## Num_sold per Day"
   ]
  },
  {
   "cell_type": "code",
   "execution_count": 14,
   "id": "6a0492df",
   "metadata": {
    "execution": {
     "iopub.execute_input": "2023-07-27T12:39:53.565281Z",
     "iopub.status.busy": "2023-07-27T12:39:53.564745Z",
     "iopub.status.idle": "2023-07-27T12:39:53.586009Z",
     "shell.execute_reply": "2023-07-27T12:39:53.584338Z"
    },
    "papermill": {
     "duration": 0.054451,
     "end_time": "2023-07-27T12:39:53.589222",
     "exception": false,
     "start_time": "2023-07-27T12:39:53.534771",
     "status": "completed"
    },
    "tags": []
   },
   "outputs": [
    {
     "data": {
      "text/html": [
       "<div>\n",
       "<style scoped>\n",
       "    .dataframe tbody tr th:only-of-type {\n",
       "        vertical-align: middle;\n",
       "    }\n",
       "\n",
       "    .dataframe tbody tr th {\n",
       "        vertical-align: top;\n",
       "    }\n",
       "\n",
       "    .dataframe thead th {\n",
       "        text-align: right;\n",
       "    }\n",
       "</style>\n",
       "<table border=\"1\" class=\"dataframe\">\n",
       "  <thead>\n",
       "    <tr style=\"text-align: right;\">\n",
       "      <th></th>\n",
       "      <th>day_of_week</th>\n",
       "      <th>num_sold</th>\n",
       "    </tr>\n",
       "  </thead>\n",
       "  <tbody>\n",
       "    <tr>\n",
       "      <th>0</th>\n",
       "      <td>Monday</td>\n",
       "      <td>3070961</td>\n",
       "    </tr>\n",
       "    <tr>\n",
       "      <th>1</th>\n",
       "      <td>Tuesday</td>\n",
       "      <td>3071422</td>\n",
       "    </tr>\n",
       "    <tr>\n",
       "      <th>2</th>\n",
       "      <td>Wednesday</td>\n",
       "      <td>3070221</td>\n",
       "    </tr>\n",
       "    <tr>\n",
       "      <th>3</th>\n",
       "      <td>Thursday</td>\n",
       "      <td>3075771</td>\n",
       "    </tr>\n",
       "    <tr>\n",
       "      <th>4</th>\n",
       "      <td>Friday</td>\n",
       "      <td>3295128</td>\n",
       "    </tr>\n",
       "    <tr>\n",
       "      <th>5</th>\n",
       "      <td>Saturday</td>\n",
       "      <td>3396846</td>\n",
       "    </tr>\n",
       "    <tr>\n",
       "      <th>6</th>\n",
       "      <td>Sunday</td>\n",
       "      <td>3687976</td>\n",
       "    </tr>\n",
       "  </tbody>\n",
       "</table>\n",
       "</div>"
      ],
      "text/plain": [
       "  day_of_week  num_sold\n",
       "0      Monday   3070961\n",
       "1     Tuesday   3071422\n",
       "2   Wednesday   3070221\n",
       "3    Thursday   3075771\n",
       "4      Friday   3295128\n",
       "5    Saturday   3396846\n",
       "6      Sunday   3687976"
      ]
     },
     "execution_count": 14,
     "metadata": {},
     "output_type": "execute_result"
    }
   ],
   "source": [
    "days = {1:'Tuesday',0:'Monday',3:'Thursday',2:'Wednesday',4: 'Friday',5:'Saturday',6:'Sunday'}\n",
    "day = train.groupby('day_of_week')['num_sold'].sum().reset_index()\n",
    "day['day_of_week'] = day['day_of_week'].map(days)\n",
    "day"
   ]
  },
  {
   "cell_type": "code",
   "execution_count": 15,
   "id": "7dcb41f8",
   "metadata": {
    "execution": {
     "iopub.execute_input": "2023-07-27T12:39:53.649302Z",
     "iopub.status.busy": "2023-07-27T12:39:53.648811Z",
     "iopub.status.idle": "2023-07-27T12:39:54.293914Z",
     "shell.execute_reply": "2023-07-27T12:39:54.291765Z"
    },
    "papermill": {
     "duration": 0.678739,
     "end_time": "2023-07-27T12:39:54.297331",
     "exception": false,
     "start_time": "2023-07-27T12:39:53.618592",
     "status": "completed"
    },
    "tags": []
   },
   "outputs": [
    {
     "data": {
      "image/png": "[encoded data removed]",
      "text/plain": [
       "<Figure size 1400x500 with 1 Axes>"
      ]
     },
     "metadata": {},
     "output_type": "display_data"
    }
   ],
   "source": [
    "plt.figure(figsize=(14,5))\n",
    "sns.lineplot(data=day,x='day_of_week',y='num_sold')\n",
    "plt.title('Time Series Graph for num_sold per day')\n",
    "plt.tight_layout()"
   ]
  },
  {
   "cell_type": "markdown",
   "id": "6f016f67",
   "metadata": {
    "papermill": {
     "duration": 0.029202,
     "end_time": "2023-07-27T12:39:54.356699",
     "exception": false,
     "start_time": "2023-07-27T12:39:54.327497",
     "status": "completed"
    },
    "tags": []
   },
   "source": [
    "## Num_sold per Country"
   ]
  },
  {
   "cell_type": "code",
   "execution_count": 16,
   "id": "891b427b",
   "metadata": {
    "execution": {
     "iopub.execute_input": "2023-07-27T12:39:54.417159Z",
     "iopub.status.busy": "2023-07-27T12:39:54.416625Z",
     "iopub.status.idle": "2023-07-27T12:39:54.447147Z",
     "shell.execute_reply": "2023-07-27T12:39:54.445554Z"
    },
    "papermill": {
     "duration": 0.0647,
     "end_time": "2023-07-27T12:39:54.450375",
     "exception": false,
     "start_time": "2023-07-27T12:39:54.385675",
     "status": "completed"
    },
    "tags": []
   },
   "outputs": [
    {
     "data": {
      "text/html": [
       "<div>\n",
       "<style scoped>\n",
       "    .dataframe tbody tr th:only-of-type {\n",
       "        vertical-align: middle;\n",
       "    }\n",
       "\n",
       "    .dataframe tbody tr th {\n",
       "        vertical-align: top;\n",
       "    }\n",
       "\n",
       "    .dataframe thead th {\n",
       "        text-align: right;\n",
       "    }\n",
       "</style>\n",
       "<table border=\"1\" class=\"dataframe\">\n",
       "  <thead>\n",
       "    <tr style=\"text-align: right;\">\n",
       "      <th></th>\n",
       "      <th>country</th>\n",
       "      <th>num_sold</th>\n",
       "    </tr>\n",
       "  </thead>\n",
       "  <tbody>\n",
       "    <tr>\n",
       "      <th>0</th>\n",
       "      <td>Argentina</td>\n",
       "      <td>1683244</td>\n",
       "    </tr>\n",
       "    <tr>\n",
       "      <th>1</th>\n",
       "      <td>Canada</td>\n",
       "      <td>7013114</td>\n",
       "    </tr>\n",
       "    <tr>\n",
       "      <th>2</th>\n",
       "      <td>Estonia</td>\n",
       "      <td>3577319</td>\n",
       "    </tr>\n",
       "    <tr>\n",
       "      <th>3</th>\n",
       "      <td>Japan</td>\n",
       "      <td>6013786</td>\n",
       "    </tr>\n",
       "    <tr>\n",
       "      <th>4</th>\n",
       "      <td>Spain</td>\n",
       "      <td>4380862</td>\n",
       "    </tr>\n",
       "  </tbody>\n",
       "</table>\n",
       "</div>"
      ],
      "text/plain": [
       "     country  num_sold\n",
       "0  Argentina   1683244\n",
       "1     Canada   7013114\n",
       "2    Estonia   3577319\n",
       "3      Japan   6013786\n",
       "4      Spain   4380862"
      ]
     },
     "execution_count": 16,
     "metadata": {},
     "output_type": "execute_result"
    }
   ],
   "source": [
    "count = train.groupby('country')['num_sold'].sum().reset_index()\n",
    "count"
   ]
  },
  {
   "cell_type": "code",
   "execution_count": 17,
   "id": "1f41481b",
   "metadata": {
    "execution": {
     "iopub.execute_input": "2023-07-27T12:39:54.513168Z",
     "iopub.status.busy": "2023-07-27T12:39:54.512224Z",
     "iopub.status.idle": "2023-07-27T12:39:55.105045Z",
     "shell.execute_reply": "2023-07-27T12:39:55.103868Z"
    },
    "papermill": {
     "duration": 0.627053,
     "end_time": "2023-07-27T12:39:55.108012",
     "exception": false,
     "start_time": "2023-07-27T12:39:54.480959",
     "status": "completed"
    },
    "tags": []
   },
   "outputs": [
    {
     "data": {
      "image/png": "[encoded data removed]",
      "text/plain": [
       "<Figure size 1400x500 with 1 Axes>"
      ]
     },
     "metadata": {},
     "output_type": "display_data"
    }
   ],
   "source": [
    "plt.figure(figsize=(14,5))\n",
    "sns.barplot(data = count, x='country', y='num_sold')\n",
    "plt.title('Num_sold per Country')\n",
    "plt.tight_layout()"
   ]
  },
  {
   "cell_type": "markdown",
   "id": "170af3f7",
   "metadata": {
    "papermill": {
     "duration": 0.030371,
     "end_time": "2023-07-27T12:39:55.168055",
     "exception": false,
     "start_time": "2023-07-27T12:39:55.137684",
     "status": "completed"
    },
    "tags": []
   },
   "source": [
    "## Num_sold for every store"
   ]
  },
  {
   "cell_type": "code",
   "execution_count": 18,
   "id": "917ea2c2",
   "metadata": {
    "execution": {
     "iopub.execute_input": "2023-07-27T12:39:55.231540Z",
     "iopub.status.busy": "2023-07-27T12:39:55.230817Z",
     "iopub.status.idle": "2023-07-27T12:39:55.262729Z",
     "shell.execute_reply": "2023-07-27T12:39:55.261015Z"
    },
    "papermill": {
     "duration": 0.068021,
     "end_time": "2023-07-27T12:39:55.266121",
     "exception": false,
     "start_time": "2023-07-27T12:39:55.198100",
     "status": "completed"
    },
    "tags": []
   },
   "outputs": [
    {
     "data": {
      "text/html": [
       "<div>\n",
       "<style scoped>\n",
       "    .dataframe tbody tr th:only-of-type {\n",
       "        vertical-align: middle;\n",
       "    }\n",
       "\n",
       "    .dataframe tbody tr th {\n",
       "        vertical-align: top;\n",
       "    }\n",
       "\n",
       "    .dataframe thead th {\n",
       "        text-align: right;\n",
       "    }\n",
       "</style>\n",
       "<table border=\"1\" class=\"dataframe\">\n",
       "  <thead>\n",
       "    <tr style=\"text-align: right;\">\n",
       "      <th></th>\n",
       "      <th>store</th>\n",
       "      <th>num_sold</th>\n",
       "    </tr>\n",
       "  </thead>\n",
       "  <tbody>\n",
       "    <tr>\n",
       "      <th>0</th>\n",
       "      <td>Kagglazon</td>\n",
       "      <td>15661335</td>\n",
       "    </tr>\n",
       "    <tr>\n",
       "      <th>1</th>\n",
       "      <td>Kaggle Learn</td>\n",
       "      <td>2755934</td>\n",
       "    </tr>\n",
       "    <tr>\n",
       "      <th>2</th>\n",
       "      <td>Kaggle Store</td>\n",
       "      <td>4251056</td>\n",
       "    </tr>\n",
       "  </tbody>\n",
       "</table>\n",
       "</div>"
      ],
      "text/plain": [
       "          store  num_sold\n",
       "0     Kagglazon  15661335\n",
       "1  Kaggle Learn   2755934\n",
       "2  Kaggle Store   4251056"
      ]
     },
     "execution_count": 18,
     "metadata": {},
     "output_type": "execute_result"
    }
   ],
   "source": [
    "store = train.groupby('store')['num_sold'].sum().reset_index()\n",
    "store"
   ]
  },
  {
   "cell_type": "code",
   "execution_count": 19,
   "id": "554f45db",
   "metadata": {
    "execution": {
     "iopub.execute_input": "2023-07-27T12:39:55.328769Z",
     "iopub.status.busy": "2023-07-27T12:39:55.328228Z",
     "iopub.status.idle": "2023-07-27T12:39:55.613628Z",
     "shell.execute_reply": "2023-07-27T12:39:55.611255Z"
    },
    "papermill": {
     "duration": 0.323814,
     "end_time": "2023-07-27T12:39:55.619514",
     "exception": false,
     "start_time": "2023-07-27T12:39:55.295700",
     "status": "completed"
    },
    "tags": []
   },
   "outputs": [
    {
     "data": {
      "image/png": "[encoded data removed]",
      "text/plain": [
       "<Figure size 1000x500 with 1 Axes>"
      ]
     },
     "metadata": {},
     "output_type": "display_data"
    }
   ],
   "source": [
    "plt.figure(figsize=(10,5))\n",
    "plt.pie(data=store,labels='store',x='num_sold',autopct='%.0f%%')\n",
    "plt.title('Stores with higest num_sold')\n",
    "plt.tight_layout()\n",
    "plt.show()"
   ]
  },
  {
   "cell_type": "markdown",
   "id": "3daed89c",
   "metadata": {
    "papermill": {
     "duration": 0.029862,
     "end_time": "2023-07-27T12:39:55.689169",
     "exception": false,
     "start_time": "2023-07-27T12:39:55.659307",
     "status": "completed"
    },
    "tags": []
   },
   "source": [
    "## Num_sold per product"
   ]
  },
  {
   "cell_type": "code",
   "execution_count": 20,
   "id": "bde986e3",
   "metadata": {
    "execution": {
     "iopub.execute_input": "2023-07-27T12:39:55.754049Z",
     "iopub.status.busy": "2023-07-27T12:39:55.752874Z",
     "iopub.status.idle": "2023-07-27T12:39:55.788815Z",
     "shell.execute_reply": "2023-07-27T12:39:55.787327Z"
    },
    "papermill": {
     "duration": 0.072336,
     "end_time": "2023-07-27T12:39:55.792496",
     "exception": false,
     "start_time": "2023-07-27T12:39:55.720160",
     "status": "completed"
    },
    "tags": []
   },
   "outputs": [
    {
     "data": {
      "text/html": [
       "<div>\n",
       "<style scoped>\n",
       "    .dataframe tbody tr th:only-of-type {\n",
       "        vertical-align: middle;\n",
       "    }\n",
       "\n",
       "    .dataframe tbody tr th {\n",
       "        vertical-align: top;\n",
       "    }\n",
       "\n",
       "    .dataframe thead th {\n",
       "        text-align: right;\n",
       "    }\n",
       "</style>\n",
       "<table border=\"1\" class=\"dataframe\">\n",
       "  <thead>\n",
       "    <tr style=\"text-align: right;\">\n",
       "      <th></th>\n",
       "      <th>product</th>\n",
       "      <th>num_sold</th>\n",
       "    </tr>\n",
       "  </thead>\n",
       "  <tbody>\n",
       "    <tr>\n",
       "      <th>0</th>\n",
       "      <td>Using LLMs to Improve Your Coding</td>\n",
       "      <td>6069281</td>\n",
       "    </tr>\n",
       "    <tr>\n",
       "      <th>1</th>\n",
       "      <td>Using LLMs to Train More LLMs</td>\n",
       "      <td>5993975</td>\n",
       "    </tr>\n",
       "    <tr>\n",
       "      <th>2</th>\n",
       "      <td>Using LLMs to Win Friends and Influence People</td>\n",
       "      <td>932564</td>\n",
       "    </tr>\n",
       "    <tr>\n",
       "      <th>3</th>\n",
       "      <td>Using LLMs to Win More Kaggle Competitions</td>\n",
       "      <td>5068313</td>\n",
       "    </tr>\n",
       "    <tr>\n",
       "      <th>4</th>\n",
       "      <td>Using LLMs to Write Better</td>\n",
       "      <td>4604192</td>\n",
       "    </tr>\n",
       "  </tbody>\n",
       "</table>\n",
       "</div>"
      ],
      "text/plain": [
       "                                          product  num_sold\n",
       "0               Using LLMs to Improve Your Coding   6069281\n",
       "1                   Using LLMs to Train More LLMs   5993975\n",
       "2  Using LLMs to Win Friends and Influence People    932564\n",
       "3      Using LLMs to Win More Kaggle Competitions   5068313\n",
       "4                      Using LLMs to Write Better   4604192"
      ]
     },
     "execution_count": 20,
     "metadata": {},
     "output_type": "execute_result"
    }
   ],
   "source": [
    "pro = train.groupby('product')['num_sold'].sum().reset_index()\n",
    "pro"
   ]
  },
  {
   "cell_type": "code",
   "execution_count": 21,
   "id": "78aaae4c",
   "metadata": {
    "execution": {
     "iopub.execute_input": "2023-07-27T12:39:55.857097Z",
     "iopub.status.busy": "2023-07-27T12:39:55.856604Z",
     "iopub.status.idle": "2023-07-27T12:39:56.465051Z",
     "shell.execute_reply": "2023-07-27T12:39:56.463516Z"
    },
    "papermill": {
     "duration": 0.644381,
     "end_time": "2023-07-27T12:39:56.467732",
     "exception": false,
     "start_time": "2023-07-27T12:39:55.823351",
     "status": "completed"
    },
    "tags": []
   },
   "outputs": [
    {
     "data": {
      "image/png": "[encoded data removed]",
      "text/plain": [
       "<Figure size 2000x500 with 1 Axes>"
      ]
     },
     "metadata": {},
     "output_type": "display_data"
    }
   ],
   "source": [
    "plt.figure(figsize=(20,5))\n",
    "sns.barplot(data=pro,x='product',y='num_sold')\n",
    "plt.title('product with highest num_sold')\n",
    "plt.tight_layout()"
   ]
  },
  {
   "cell_type": "markdown",
   "id": "a18ad324",
   "metadata": {
    "papermill": {
     "duration": 0.031796,
     "end_time": "2023-07-27T12:39:56.531406",
     "exception": false,
     "start_time": "2023-07-27T12:39:56.499610",
     "status": "completed"
    },
    "tags": []
   },
   "source": [
    "# Feature Enginering"
   ]
  },
  {
   "cell_type": "code",
   "execution_count": 22,
   "id": "548ae09a",
   "metadata": {
    "execution": {
     "iopub.execute_input": "2023-07-27T12:39:56.596675Z",
     "iopub.status.busy": "2023-07-27T12:39:56.596114Z",
     "iopub.status.idle": "2023-07-27T12:39:56.630464Z",
     "shell.execute_reply": "2023-07-27T12:39:56.628991Z"
    },
    "papermill": {
     "duration": 0.070817,
     "end_time": "2023-07-27T12:39:56.633495",
     "exception": false,
     "start_time": "2023-07-27T12:39:56.562678",
     "status": "completed"
    },
    "tags": []
   },
   "outputs": [],
   "source": [
    "# Country column changes to ordinal values\n",
    "for data in combine:\n",
    "    list={'Argentina':1,'Canada':2,'Estonia':3,'Japan':4,'Spain':5 }\n",
    "    data['country']=data['country'].map(list)"
   ]
  },
  {
   "cell_type": "code",
   "execution_count": 23,
   "id": "5b903fac",
   "metadata": {
    "execution": {
     "iopub.execute_input": "2023-07-27T12:39:56.697337Z",
     "iopub.status.busy": "2023-07-27T12:39:56.696811Z",
     "iopub.status.idle": "2023-07-27T12:39:56.731590Z",
     "shell.execute_reply": "2023-07-27T12:39:56.730356Z"
    },
    "papermill": {
     "duration": 0.070482,
     "end_time": "2023-07-27T12:39:56.734711",
     "exception": false,
     "start_time": "2023-07-27T12:39:56.664229",
     "status": "completed"
    },
    "tags": []
   },
   "outputs": [],
   "source": [
    "# Store column changes to ordinal value\n",
    "for data in combine:\n",
    "    list={'Kaggle Learn':1,'Kaggle Store':2,'Kagglazon':3}\n",
    "    data['store']=data.store.map(list)"
   ]
  },
  {
   "cell_type": "code",
   "execution_count": 24,
   "id": "45f12ca1",
   "metadata": {
    "execution": {
     "iopub.execute_input": "2023-07-27T12:39:56.801277Z",
     "iopub.status.busy": "2023-07-27T12:39:56.800760Z",
     "iopub.status.idle": "2023-07-27T12:39:56.832746Z",
     "shell.execute_reply": "2023-07-27T12:39:56.831189Z"
    },
    "papermill": {
     "duration": 0.069564,
     "end_time": "2023-07-27T12:39:56.836142",
     "exception": false,
     "start_time": "2023-07-27T12:39:56.766578",
     "status": "completed"
    },
    "tags": []
   },
   "outputs": [],
   "source": [
    "# Product changes to ordinal value\n",
    "for data in combine:\n",
    "    list={'Using LLMs to Improve Your Coding':1,'Using LLMs to Train More LLMs':2,'Using LLMs to Win Friends and Influence People':3,'Using LLMs to Win More Kaggle Competitions':4 ,'Using LLMs to Write Better':5}\n",
    "    data['product']=data['product'].map(list)"
   ]
  },
  {
   "cell_type": "markdown",
   "id": "297c3a2e",
   "metadata": {
    "papermill": {
     "duration": 0.031271,
     "end_time": "2023-07-27T12:39:56.898583",
     "exception": false,
     "start_time": "2023-07-27T12:39:56.867312",
     "status": "completed"
    },
    "tags": []
   },
   "source": [
    "## New features"
   ]
  },
  {
   "cell_type": "code",
   "execution_count": 25,
   "id": "77172093",
   "metadata": {
    "execution": {
     "iopub.execute_input": "2023-07-27T12:39:56.962939Z",
     "iopub.status.busy": "2023-07-27T12:39:56.962369Z",
     "iopub.status.idle": "2023-07-27T12:39:56.993731Z",
     "shell.execute_reply": "2023-07-27T12:39:56.992419Z"
    },
    "papermill": {
     "duration": 0.067396,
     "end_time": "2023-07-27T12:39:56.996992",
     "exception": false,
     "start_time": "2023-07-27T12:39:56.929596",
     "status": "completed"
    },
    "tags": []
   },
   "outputs": [],
   "source": [
    "# Crate weekend column, weekend = 1, weekday = 0\n",
    "for df in combine:\n",
    "    df['day_of_week'] = df['date'].dt.dayofweek\n",
    "    df.loc[df['day_of_week'] > 4, 'weekend'] = 1\n",
    "    df.loc[df['day_of_week'] <= 4, 'weekend'] = 0"
   ]
  },
  {
   "cell_type": "code",
   "execution_count": 26,
   "id": "11c1fef2",
   "metadata": {
    "execution": {
     "iopub.execute_input": "2023-07-27T12:39:57.062193Z",
     "iopub.status.busy": "2023-07-27T12:39:57.061655Z",
     "iopub.status.idle": "2023-07-27T12:39:57.074548Z",
     "shell.execute_reply": "2023-07-27T12:39:57.073019Z"
    },
    "papermill": {
     "duration": 0.049263,
     "end_time": "2023-07-27T12:39:57.077861",
     "exception": false,
     "start_time": "2023-07-27T12:39:57.028598",
     "status": "completed"
    },
    "tags": []
   },
   "outputs": [],
   "source": [
    "# Create Sunday Column, Sunday = 1, others = 0\n",
    "for df in combine:\n",
    "    df.loc[df['day_of_week'] == 6, 'sunday'] = 1\n",
    "    df.loc[df['day_of_week'] != 6, 'sunday'] = 0"
   ]
  },
  {
   "cell_type": "code",
   "execution_count": 27,
   "id": "9447da7c",
   "metadata": {
    "execution": {
     "iopub.execute_input": "2023-07-27T12:39:57.144354Z",
     "iopub.status.busy": "2023-07-27T12:39:57.143826Z",
     "iopub.status.idle": "2023-07-27T12:39:57.175383Z",
     "shell.execute_reply": "2023-07-27T12:39:57.174008Z"
    },
    "papermill": {
     "duration": 0.067893,
     "end_time": "2023-07-27T12:39:57.178640",
     "exception": false,
     "start_time": "2023-07-27T12:39:57.110747",
     "status": "completed"
    },
    "tags": []
   },
   "outputs": [],
   "source": [
    "# Create Fourier Features\n",
    "for df in combine:\n",
    "    df['month_sin'] = np.sin(2*np.pi*df['month']/12)\n",
    "    df['month_cos'] = np.cos(2*np.pi*df['month']/12)\n",
    "    df['day_sin'] = np.sin(2*np.pi*df['day']/31)\n",
    "    df['day_cos'] = np.cos(2*np.pi*df['day']/31)"
   ]
  },
  {
   "cell_type": "code",
   "execution_count": 28,
   "id": "36d6da0f",
   "metadata": {
    "execution": {
     "iopub.execute_input": "2023-07-27T12:39:57.244662Z",
     "iopub.status.busy": "2023-07-27T12:39:57.244099Z",
     "iopub.status.idle": "2023-07-27T12:39:57.945128Z",
     "shell.execute_reply": "2023-07-27T12:39:57.943793Z"
    },
    "papermill": {
     "duration": 0.738539,
     "end_time": "2023-07-27T12:39:57.948343",
     "exception": false,
     "start_time": "2023-07-27T12:39:57.209804",
     "status": "completed"
    },
    "tags": []
   },
   "outputs": [],
   "source": [
    "# Co-vid Feature\n",
    "start_date = pd.to_datetime('2020-03-01')\n",
    "end_date = pd.to_datetime('2021-01-01')\n",
    "\n",
    "for df in combine:\n",
    "    df['covid'] = df['date'].apply(lambda x: 1 if start_date <= x <= end_date else 0)"
   ]
  },
  {
   "cell_type": "code",
   "execution_count": 29,
   "id": "52609730",
   "metadata": {
    "execution": {
     "iopub.execute_input": "2023-07-27T12:39:58.012796Z",
     "iopub.status.busy": "2023-07-27T12:39:58.012259Z",
     "iopub.status.idle": "2023-07-27T12:39:58.021893Z",
     "shell.execute_reply": "2023-07-27T12:39:58.020628Z"
    },
    "papermill": {
     "duration": 0.045526,
     "end_time": "2023-07-27T12:39:58.024866",
     "exception": false,
     "start_time": "2023-07-27T12:39:57.979340",
     "status": "completed"
    },
    "tags": []
   },
   "outputs": [],
   "source": [
    "# Store_product feature\n",
    "for data in combine:\n",
    "    data['store_product'] = data['store']+ data['product']"
   ]
  },
  {
   "cell_type": "markdown",
   "id": "21f26702",
   "metadata": {
    "papermill": {
     "duration": 0.030682,
     "end_time": "2023-07-27T12:39:58.086986",
     "exception": false,
     "start_time": "2023-07-27T12:39:58.056304",
     "status": "completed"
    },
    "tags": []
   },
   "source": [
    "## Holiday Feature  "
   ]
  },
  {
   "cell_type": "code",
   "execution_count": 30,
   "id": "cb8004cc",
   "metadata": {
    "execution": {
     "iopub.execute_input": "2023-07-27T12:39:58.153425Z",
     "iopub.status.busy": "2023-07-27T12:39:58.152938Z",
     "iopub.status.idle": "2023-07-27T12:39:58.222704Z",
     "shell.execute_reply": "2023-07-27T12:39:58.221246Z"
    },
    "papermill": {
     "duration": 0.10658,
     "end_time": "2023-07-27T12:39:58.225956",
     "exception": false,
     "start_time": "2023-07-27T12:39:58.119376",
     "status": "completed"
    },
    "tags": []
   },
   "outputs": [],
   "source": [
    "# creating list of holidays for each country for years mentioned in data.\n",
    "years = data[\"year\"].unique().tolist()\n",
    "\n",
    "holiday_AR = holidays.CountryHoliday(\"AR\", years=years)\n",
    "holiday_CA = holidays.CountryHoliday(\"CA\", years=years)\n",
    "holiday_EE = holidays.CountryHoliday(\"EE\", years=years)\n",
    "holiday_JP = holidays.CountryHoliday(\"JP\", years=years)\n",
    "holiday_ES = holidays.CountryHoliday(\"ES\", years=years)"
   ]
  },
  {
   "cell_type": "code",
   "execution_count": 31,
   "id": "17b6fccb",
   "metadata": {
    "execution": {
     "iopub.execute_input": "2023-07-27T12:39:58.291202Z",
     "iopub.status.busy": "2023-07-27T12:39:58.290631Z",
     "iopub.status.idle": "2023-07-27T12:40:03.643548Z",
     "shell.execute_reply": "2023-07-27T12:40:03.642288Z"
    },
    "papermill": {
     "duration": 5.389295,
     "end_time": "2023-07-27T12:40:03.646941",
     "exception": false,
     "start_time": "2023-07-27T12:39:58.257646",
     "status": "completed"
    },
    "tags": []
   },
   "outputs": [],
   "source": [
    "# Checking a date is holiday or not for each country.\n",
    "df_holidays = pd.DataFrame(columns=['date', 'AR', 'CA', 'EE', 'JP', 'ES'])\n",
    "\n",
    "for date in pd.date_range(start='2017-01-01', end='2022-12-31'):\n",
    "    ar = 1 if date in holiday_AR else 0\n",
    "    ca = 1 if date in holiday_CA else 0\n",
    "    ee = 1 if date in holiday_EE else 0\n",
    "    jp = 1 if date in holiday_JP else 0\n",
    "    es = 1 if date in holiday_ES else 0\n",
    "\n",
    "    df_holidays = df_holidays.append({\"date\": date, \"AR\": ar, \"CA\": ca, \"EE\": ee, \"JP\": jp, \"ES\": es}, ignore_index=True)"
   ]
  },
  {
   "cell_type": "code",
   "execution_count": 32,
   "id": "e7717903",
   "metadata": {
    "execution": {
     "iopub.execute_input": "2023-07-27T12:40:03.713474Z",
     "iopub.status.busy": "2023-07-27T12:40:03.712903Z",
     "iopub.status.idle": "2023-07-27T12:40:03.832986Z",
     "shell.execute_reply": "2023-07-27T12:40:03.830817Z"
    },
    "papermill": {
     "duration": 0.158429,
     "end_time": "2023-07-27T12:40:03.836519",
     "exception": false,
     "start_time": "2023-07-27T12:40:03.678090",
     "status": "completed"
    },
    "tags": []
   },
   "outputs": [],
   "source": [
    "# New feature addition for each country\n",
    "for data in combine:\n",
    "    data['is_holiday_Argentina'] = data['date'].map(df_holidays.set_index('date')['AR']).astype(int)\n",
    "    data['is_holiday_Canada'] = data['date'].map(df_holidays.set_index('date')['CA']).astype(int)\n",
    "    data['is_holiday_Estonia'] = data['date'].map(df_holidays.set_index('date')['EE']).astype(int)\n",
    "    data['is_holiday_Japan'] = data['date'].map(df_holidays.set_index('date')['JP']).astype(int)\n",
    "    data['is_holiday_Spain'] = data['date'].map(df_holidays.set_index('date')['ES']).astype(int)\n"
   ]
  },
  {
   "cell_type": "code",
   "execution_count": 33,
   "id": "8c6e2c1f",
   "metadata": {
    "execution": {
     "iopub.execute_input": "2023-07-27T12:40:03.906222Z",
     "iopub.status.busy": "2023-07-27T12:40:03.905626Z",
     "iopub.status.idle": "2023-07-27T12:40:05.288494Z",
     "shell.execute_reply": "2023-07-27T12:40:05.283026Z"
    },
    "papermill": {
     "duration": 1.423424,
     "end_time": "2023-07-27T12:40:05.293957",
     "exception": false,
     "start_time": "2023-07-27T12:40:03.870533",
     "status": "completed"
    },
    "tags": []
   },
   "outputs": [
    {
     "data": {
      "text/plain": [
       "<Axes: >"
      ]
     },
     "execution_count": 33,
     "metadata": {},
     "output_type": "execute_result"
    },
    {
     "data": {
      "image/png": "[encoded data removed]",
      "text/plain": [
       "<Figure size 640x480 with 2 Axes>"
      ]
     },
     "metadata": {},
     "output_type": "display_data"
    }
   ],
   "source": [
    "# correlation between features\n",
    "sns.heatmap(train.corr())"
   ]
  },
  {
   "cell_type": "code",
   "execution_count": 34,
   "id": "2072b243",
   "metadata": {
    "execution": {
     "iopub.execute_input": "2023-07-27T12:40:05.384653Z",
     "iopub.status.busy": "2023-07-27T12:40:05.383511Z",
     "iopub.status.idle": "2023-07-27T12:40:05.444401Z",
     "shell.execute_reply": "2023-07-27T12:40:05.443125Z"
    },
    "papermill": {
     "duration": 0.108619,
     "end_time": "2023-07-27T12:40:05.449006",
     "exception": false,
     "start_time": "2023-07-27T12:40:05.340387",
     "status": "completed"
    },
    "tags": []
   },
   "outputs": [],
   "source": [
    "# Droping the id and date column.\n",
    "for data in combine:\n",
    "    data.drop(columns=['id','date'],inplace=True)"
   ]
  },
  {
   "cell_type": "code",
   "execution_count": 35,
   "id": "02b74a9d",
   "metadata": {
    "execution": {
     "iopub.execute_input": "2023-07-27T12:40:05.527692Z",
     "iopub.status.busy": "2023-07-27T12:40:05.526384Z",
     "iopub.status.idle": "2023-07-27T12:40:05.539381Z",
     "shell.execute_reply": "2023-07-27T12:40:05.537903Z"
    },
    "papermill": {
     "duration": 0.054538,
     "end_time": "2023-07-27T12:40:05.542866",
     "exception": false,
     "start_time": "2023-07-27T12:40:05.488328",
     "status": "completed"
    },
    "tags": []
   },
   "outputs": [],
   "source": [
    "# changing the data type of weekofyear column.\n",
    "for data in combine:\n",
    "     data['weekofyear'] = data['weekofyear'].astype(int)"
   ]
  },
  {
   "cell_type": "code",
   "execution_count": 36,
   "id": "8b15d4b4",
   "metadata": {
    "execution": {
     "iopub.execute_input": "2023-07-27T12:40:05.616983Z",
     "iopub.status.busy": "2023-07-27T12:40:05.615667Z",
     "iopub.status.idle": "2023-07-27T12:40:05.641040Z",
     "shell.execute_reply": "2023-07-27T12:40:05.638851Z"
    },
    "papermill": {
     "duration": 0.068312,
     "end_time": "2023-07-27T12:40:05.645326",
     "exception": false,
     "start_time": "2023-07-27T12:40:05.577014",
     "status": "completed"
    },
    "tags": []
   },
   "outputs": [
    {
     "name": "stdout",
     "output_type": "stream",
     "text": [
      "<class 'pandas.core.frame.DataFrame'>\n",
      "RangeIndex: 27375 entries, 0 to 27374\n",
      "Data columns (total 27 columns):\n",
      " #   Column                Non-Null Count  Dtype  \n",
      "---  ------                --------------  -----  \n",
      " 0   country               27375 non-null  int64  \n",
      " 1   store                 27375 non-null  int64  \n",
      " 2   product               27375 non-null  int64  \n",
      " 3   month                 27375 non-null  int64  \n",
      " 4   day                   27375 non-null  int64  \n",
      " 5   day_of_week           27375 non-null  int64  \n",
      " 6   year                  27375 non-null  int64  \n",
      " 7   quarter               27375 non-null  int64  \n",
      " 8   weekofyear            27375 non-null  int64  \n",
      " 9   dayofyear             27375 non-null  int64  \n",
      " 10  is_month_end          27375 non-null  bool   \n",
      " 11  is_month_start        27375 non-null  bool   \n",
      " 12  is_year_end           27375 non-null  bool   \n",
      " 13  is_year_start         27375 non-null  bool   \n",
      " 14  weekend               27375 non-null  float64\n",
      " 15  sunday                27375 non-null  float64\n",
      " 16  month_sin             27375 non-null  float64\n",
      " 17  month_cos             27375 non-null  float64\n",
      " 18  day_sin               27375 non-null  float64\n",
      " 19  day_cos               27375 non-null  float64\n",
      " 20  covid                 27375 non-null  int64  \n",
      " 21  store_product         27375 non-null  int64  \n",
      " 22  is_holiday_Argentina  27375 non-null  int64  \n",
      " 23  is_holiday_Canada     27375 non-null  int64  \n",
      " 24  is_holiday_Estonia    27375 non-null  int64  \n",
      " 25  is_holiday_Japan      27375 non-null  int64  \n",
      " 26  is_holiday_Spain      27375 non-null  int64  \n",
      "dtypes: bool(4), float64(6), int64(17)\n",
      "memory usage: 4.9 MB\n"
     ]
    }
   ],
   "source": [
    "# checking columns before staring the training\n",
    "test.info()"
   ]
  },
  {
   "cell_type": "markdown",
   "id": "73d4bbc9",
   "metadata": {
    "papermill": {
     "duration": 0.036281,
     "end_time": "2023-07-27T12:40:05.719364",
     "exception": false,
     "start_time": "2023-07-27T12:40:05.683083",
     "status": "completed"
    },
    "tags": []
   },
   "source": [
    "# Train Test Split"
   ]
  },
  {
   "cell_type": "code",
   "execution_count": 37,
   "id": "669aabac",
   "metadata": {
    "execution": {
     "iopub.execute_input": "2023-07-27T12:40:05.790532Z",
     "iopub.status.busy": "2023-07-27T12:40:05.789784Z",
     "iopub.status.idle": "2023-07-27T12:40:05.849165Z",
     "shell.execute_reply": "2023-07-27T12:40:05.847600Z"
    },
    "papermill": {
     "duration": 0.100005,
     "end_time": "2023-07-27T12:40:05.853418",
     "exception": false,
     "start_time": "2023-07-27T12:40:05.753413",
     "status": "completed"
    },
    "tags": []
   },
   "outputs": [],
   "source": [
    "X_train=train.drop(columns='num_sold')\n",
    "y_train=train.num_sold\n",
    "X_test = test"
   ]
  },
  {
   "cell_type": "markdown",
   "id": "32f0f613",
   "metadata": {
    "papermill": {
     "duration": 0.035737,
     "end_time": "2023-07-27T12:40:05.930728",
     "exception": false,
     "start_time": "2023-07-27T12:40:05.894991",
     "status": "completed"
    },
    "tags": []
   },
   "source": [
    "## Standard Scaling"
   ]
  },
  {
   "cell_type": "code",
   "execution_count": 38,
   "id": "74315cad",
   "metadata": {
    "execution": {
     "iopub.execute_input": "2023-07-27T12:40:06.006014Z",
     "iopub.status.busy": "2023-07-27T12:40:06.004430Z",
     "iopub.status.idle": "2023-07-27T12:40:06.564661Z",
     "shell.execute_reply": "2023-07-27T12:40:06.562360Z"
    },
    "papermill": {
     "duration": 0.599362,
     "end_time": "2023-07-27T12:40:06.568066",
     "exception": false,
     "start_time": "2023-07-27T12:40:05.968704",
     "status": "completed"
    },
    "tags": []
   },
   "outputs": [],
   "source": [
    "ss = StandardScaler()\n",
    "X_train = ss.fit_transform(X_train)\n",
    "X_test = ss.fit_transform(X_test)"
   ]
  },
  {
   "cell_type": "markdown",
   "id": "be7705d8",
   "metadata": {
    "papermill": {
     "duration": 0.033248,
     "end_time": "2023-07-27T12:40:06.637568",
     "exception": false,
     "start_time": "2023-07-27T12:40:06.604320",
     "status": "completed"
    },
    "tags": []
   },
   "source": [
    "## Evaluvation method "
   ]
  },
  {
   "cell_type": "code",
   "execution_count": 39,
   "id": "47e12b26",
   "metadata": {
    "execution": {
     "iopub.execute_input": "2023-07-27T12:40:06.708702Z",
     "iopub.status.busy": "2023-07-27T12:40:06.708078Z",
     "iopub.status.idle": "2023-07-27T12:40:06.716576Z",
     "shell.execute_reply": "2023-07-27T12:40:06.714633Z"
    },
    "papermill": {
     "duration": 0.047851,
     "end_time": "2023-07-27T12:40:06.720098",
     "exception": false,
     "start_time": "2023-07-27T12:40:06.672247",
     "status": "completed"
    },
    "tags": []
   },
   "outputs": [],
   "source": [
    "def cv_score(score):\n",
    "    rmse = np.sqrt(-score) # -score because we are using \"neg_mean_squared_error\" as our metric\n",
    "    return (rmse)"
   ]
  },
  {
   "cell_type": "markdown",
   "id": "d5e65a48",
   "metadata": {
    "papermill": {
     "duration": 0.032288,
     "end_time": "2023-07-27T12:40:06.786466",
     "exception": false,
     "start_time": "2023-07-27T12:40:06.754178",
     "status": "completed"
    },
    "tags": []
   },
   "source": [
    "# Models"
   ]
  },
  {
   "cell_type": "markdown",
   "id": "d0a45df2",
   "metadata": {
    "papermill": {
     "duration": 0.032892,
     "end_time": "2023-07-27T12:40:06.856903",
     "exception": false,
     "start_time": "2023-07-27T12:40:06.824011",
     "status": "completed"
    },
    "tags": []
   },
   "source": [
    "## Linear Regression"
   ]
  },
  {
   "cell_type": "code",
   "execution_count": 40,
   "id": "75ed47b9",
   "metadata": {
    "execution": {
     "iopub.execute_input": "2023-07-27T12:40:06.928258Z",
     "iopub.status.busy": "2023-07-27T12:40:06.927729Z",
     "iopub.status.idle": "2023-07-27T12:40:07.258470Z",
     "shell.execute_reply": "2023-07-27T12:40:07.256399Z"
    },
    "papermill": {
     "duration": 0.372351,
     "end_time": "2023-07-27T12:40:07.264440",
     "exception": false,
     "start_time": "2023-07-27T12:40:06.892089",
     "status": "completed"
    },
    "tags": []
   },
   "outputs": [
    {
     "name": "stdout",
     "output_type": "stream",
     "text": [
      "43.0\n"
     ]
    }
   ],
   "source": [
    "lm = LinearRegression()\n",
    "\n",
    "lm.fit(X_train,y_train)\n",
    "\n",
    "pred_lm = np.round(lm.predict(X_test))\n",
    "\n",
    "lm_score = round(lm.score(X_train,y_train)*100,2)\n",
    "print(lm_score)"
   ]
  },
  {
   "cell_type": "markdown",
   "id": "c3ae2b81",
   "metadata": {
    "papermill": {
     "duration": 0.04405,
     "end_time": "2023-07-27T12:40:07.385042",
     "exception": false,
     "start_time": "2023-07-27T12:40:07.340992",
     "status": "completed"
    },
    "tags": []
   },
   "source": [
    "## Random Forest"
   ]
  },
  {
   "cell_type": "code",
   "execution_count": 41,
   "id": "5b4b5ecc",
   "metadata": {
    "execution": {
     "iopub.execute_input": "2023-07-27T12:40:07.457682Z",
     "iopub.status.busy": "2023-07-27T12:40:07.457134Z",
     "iopub.status.idle": "2023-07-27T12:42:00.400975Z",
     "shell.execute_reply": "2023-07-27T12:42:00.399534Z"
    },
    "papermill": {
     "duration": 113.013897,
     "end_time": "2023-07-27T12:42:00.436226",
     "exception": false,
     "start_time": "2023-07-27T12:40:07.422329",
     "status": "completed"
    },
    "tags": []
   },
   "outputs": [
    {
     "data": {
      "text/plain": [
       "99.9"
      ]
     },
     "execution_count": 41,
     "metadata": {},
     "output_type": "execute_result"
    }
   ],
   "source": [
    "rf = RandomForestRegressor()\n",
    "\n",
    "rf.fit(X_train,y_train)\n",
    "\n",
    "pred_rf = rf.predict(X_test)\n",
    "\n",
    "rf_score = round(rf.score(X_train,y_train)*100, 2)\n",
    "rf_score"
   ]
  },
  {
   "cell_type": "markdown",
   "id": "ba73425b",
   "metadata": {
    "papermill": {
     "duration": 0.032074,
     "end_time": "2023-07-27T12:42:00.500258",
     "exception": false,
     "start_time": "2023-07-27T12:42:00.468184",
     "status": "completed"
    },
    "tags": []
   },
   "source": [
    "## Gradient Boosting Regressor"
   ]
  },
  {
   "cell_type": "code",
   "execution_count": 42,
   "id": "e89efe89",
   "metadata": {
    "execution": {
     "iopub.execute_input": "2023-07-27T12:42:00.567310Z",
     "iopub.status.busy": "2023-07-27T12:42:00.566793Z",
     "iopub.status.idle": "2023-07-27T12:43:44.938360Z",
     "shell.execute_reply": "2023-07-27T12:43:44.936879Z"
    },
    "papermill": {
     "duration": 104.444547,
     "end_time": "2023-07-27T12:43:44.977060",
     "exception": false,
     "start_time": "2023-07-27T12:42:00.532513",
     "status": "completed"
    },
    "tags": []
   },
   "outputs": [
    {
     "data": {
      "text/plain": [
       "99.37"
      ]
     },
     "execution_count": 42,
     "metadata": {},
     "output_type": "execute_result"
    }
   ],
   "source": [
    "gr_best =  {'learning_rate': 0.13119348735666758,\n",
    "            'max_depth': 8.0,\n",
    "            'n_estimators': 150.0}\n",
    "\n",
    "\n",
    "gb = GradientBoostingRegressor(n_estimators=int(gr_best['n_estimators']),\n",
    "                               max_depth=int(gr_best['max_depth']),\n",
    "                               learning_rate=gr_best['learning_rate'],\n",
    "                               loss='absolute_error',random_state=156)\n",
    "\n",
    "gb.fit(X_train,y_train)\n",
    "\n",
    "pred_gb = gb.predict(X_test)\n",
    "\n",
    "gb_score = round(gb.score(X_train,y_train)*100, 2)\n",
    "\n",
    "gb_score"
   ]
  },
  {
   "cell_type": "markdown",
   "id": "fdd5e83d",
   "metadata": {
    "papermill": {
     "duration": 0.032786,
     "end_time": "2023-07-27T12:43:45.044401",
     "exception": false,
     "start_time": "2023-07-27T12:43:45.011615",
     "status": "completed"
    },
    "tags": []
   },
   "source": [
    "## Ada Boost Regressor"
   ]
  },
  {
   "cell_type": "code",
   "execution_count": 43,
   "id": "55af5f2f",
   "metadata": {
    "execution": {
     "iopub.execute_input": "2023-07-27T12:43:45.114779Z",
     "iopub.status.busy": "2023-07-27T12:43:45.113770Z",
     "iopub.status.idle": "2023-07-27T12:44:07.431608Z",
     "shell.execute_reply": "2023-07-27T12:44:07.430119Z"
    },
    "papermill": {
     "duration": 22.356707,
     "end_time": "2023-07-27T12:44:07.435188",
     "exception": false,
     "start_time": "2023-07-27T12:43:45.078481",
     "status": "completed"
    },
    "tags": []
   },
   "outputs": [
    {
     "data": {
      "text/plain": [
       "70.72"
      ]
     },
     "execution_count": 43,
     "metadata": {},
     "output_type": "execute_result"
    }
   ],
   "source": [
    "ad = AdaBoostRegressor()\n",
    "\n",
    "ad.fit(X_train,y_train)\n",
    "\n",
    "pred_ad = ad.predict(X_test)\n",
    "\n",
    "ad_score = round(ad.score(X_train,y_train)*100, 2)\n",
    "\n",
    "ad_score"
   ]
  },
  {
   "cell_type": "markdown",
   "id": "5fae532b",
   "metadata": {
    "papermill": {
     "duration": 0.035268,
     "end_time": "2023-07-27T12:44:07.504844",
     "exception": false,
     "start_time": "2023-07-27T12:44:07.469576",
     "status": "completed"
    },
    "tags": []
   },
   "source": [
    "## XGB Regressor"
   ]
  },
  {
   "cell_type": "code",
   "execution_count": 44,
   "id": "6540b93a",
   "metadata": {
    "execution": {
     "iopub.execute_input": "2023-07-27T12:44:07.577591Z",
     "iopub.status.busy": "2023-07-27T12:44:07.577045Z",
     "iopub.status.idle": "2023-07-27T12:44:18.525334Z",
     "shell.execute_reply": "2023-07-27T12:44:18.523682Z"
    },
    "papermill": {
     "duration": 10.989583,
     "end_time": "2023-07-27T12:44:18.528661",
     "exception": false,
     "start_time": "2023-07-27T12:44:07.539078",
     "status": "completed"
    },
    "tags": []
   },
   "outputs": [
    {
     "data": {
      "text/plain": [
       "99.42"
      ]
     },
     "execution_count": 44,
     "metadata": {},
     "output_type": "execute_result"
    }
   ],
   "source": [
    "xgb = XGBRegressor()\n",
    "\n",
    "xgb.fit(X_train,y_train)\n",
    "\n",
    "pred_xgb = xgb.predict(X_test)\n",
    "\n",
    "xb_score = round(xgb.score(X_train,y_train)*100,2)\n",
    "\n",
    "xb_score"
   ]
  },
  {
   "cell_type": "markdown",
   "id": "cf0e54ad",
   "metadata": {
    "papermill": {
     "duration": 0.033762,
     "end_time": "2023-07-27T12:44:18.595688",
     "exception": false,
     "start_time": "2023-07-27T12:44:18.561926",
     "status": "completed"
    },
    "tags": []
   },
   "source": [
    "## LGMB Regressor"
   ]
  },
  {
   "cell_type": "code",
   "execution_count": 45,
   "id": "876e9375",
   "metadata": {
    "execution": {
     "iopub.execute_input": "2023-07-27T12:44:18.668431Z",
     "iopub.status.busy": "2023-07-27T12:44:18.666199Z",
     "iopub.status.idle": "2023-07-27T12:44:25.622138Z",
     "shell.execute_reply": "2023-07-27T12:44:25.620818Z"
    },
    "papermill": {
     "duration": 6.994212,
     "end_time": "2023-07-27T12:44:25.625142",
     "exception": false,
     "start_time": "2023-07-27T12:44:18.630930",
     "status": "completed"
    },
    "tags": []
   },
   "outputs": [
    {
     "data": {
      "text/plain": [
       "99.23"
      ]
     },
     "execution_count": 45,
     "metadata": {},
     "output_type": "execute_result"
    }
   ],
   "source": [
    "lgbm_best = {'learning_rate': 0.13431395434407706,\n",
    "             'min_child_samples': 70.0,\n",
    "             'n_estimators': 200.0,\n",
    "             'num_leaves': 80.0}\n",
    "\n",
    "lgmb = LGBMRegressor(learning_rate=lgbm_best['learning_rate'],\n",
    "                        min_child_samples=int(lgbm_best['min_child_samples']),\n",
    "                        n_estimators=int(lgbm_best['n_estimators']),\n",
    "                        num_leaves=int(lgbm_best['num_leaves']),\n",
    "                        objective='mae',random_state=156)\n",
    "\n",
    "lgmb.fit(X_train,y_train)\n",
    "\n",
    "pred_lgb=lgmb.predict(X_test)\n",
    "\n",
    "score_lgb=round(lgmb.score(X_train,y_train)*100, 2)\n",
    "\n",
    "score_lgb"
   ]
  },
  {
   "cell_type": "markdown",
   "id": "3d0d74a1",
   "metadata": {
    "papermill": {
     "duration": 0.033546,
     "end_time": "2023-07-27T12:44:25.696205",
     "exception": false,
     "start_time": "2023-07-27T12:44:25.662659",
     "status": "completed"
    },
    "tags": []
   },
   "source": [
    "## Cat Boost Regressor"
   ]
  },
  {
   "cell_type": "code",
   "execution_count": 46,
   "id": "cf2c2a53",
   "metadata": {
    "execution": {
     "iopub.execute_input": "2023-07-27T12:44:25.766074Z",
     "iopub.status.busy": "2023-07-27T12:44:25.764913Z",
     "iopub.status.idle": "2023-07-27T12:44:48.561440Z",
     "shell.execute_reply": "2023-07-27T12:44:48.560071Z"
    },
    "papermill": {
     "duration": 22.834813,
     "end_time": "2023-07-27T12:44:48.564648",
     "exception": false,
     "start_time": "2023-07-27T12:44:25.729835",
     "status": "completed"
    },
    "tags": []
   },
   "outputs": [
    {
     "data": {
      "text/plain": [
       "99.26"
      ]
     },
     "execution_count": 46,
     "metadata": {},
     "output_type": "execute_result"
    }
   ],
   "source": [
    "cat_best = {'bootstrap_type': 0,\n",
    "            'depth': 7,\n",
    "            'iterations': 745,\n",
    "            'l2_leaf_reg': 3,\n",
    "            'learning_rate': 0.04964042259047742}\n",
    "\n",
    "\n",
    "cat = CatBoostRegressor(learning_rate=0.089075,\n",
    "                            iterations=cat_best['iterations'],\n",
    "                            l2_leaf_reg=cat_best['l2_leaf_reg'],\n",
    "                            depth=cat_best['depth'],\n",
    "                            bootstrap_type='Bayesian',\n",
    "                            objective='MAE',\n",
    "                            silent=True,\n",
    "                            random_state=156)\n",
    "\n",
    "cat.fit(X_train,y_train)\n",
    "\n",
    "pred_cat = cat.predict(X_test)\n",
    "\n",
    "score_cat = round(cat.score(X_train,y_train)*100, 2)\n",
    "\n",
    "score_cat"
   ]
  },
  {
   "cell_type": "markdown",
   "id": "110376dc",
   "metadata": {
    "papermill": {
     "duration": 0.033633,
     "end_time": "2023-07-27T12:44:48.632633",
     "exception": false,
     "start_time": "2023-07-27T12:44:48.599000",
     "status": "completed"
    },
    "tags": []
   },
   "source": [
    "# Evaluvation Table"
   ]
  },
  {
   "cell_type": "code",
   "execution_count": 47,
   "id": "5e92cd23",
   "metadata": {
    "execution": {
     "iopub.execute_input": "2023-07-27T12:44:48.710701Z",
     "iopub.status.busy": "2023-07-27T12:44:48.710187Z",
     "iopub.status.idle": "2023-07-27T12:44:48.734255Z",
     "shell.execute_reply": "2023-07-27T12:44:48.731778Z"
    },
    "papermill": {
     "duration": 0.072043,
     "end_time": "2023-07-27T12:44:48.738351",
     "exception": false,
     "start_time": "2023-07-27T12:44:48.666308",
     "status": "completed"
    },
    "tags": []
   },
   "outputs": [
    {
     "data": {
      "text/html": [
       "<div>\n",
       "<style scoped>\n",
       "    .dataframe tbody tr th:only-of-type {\n",
       "        vertical-align: middle;\n",
       "    }\n",
       "\n",
       "    .dataframe tbody tr th {\n",
       "        vertical-align: top;\n",
       "    }\n",
       "\n",
       "    .dataframe thead th {\n",
       "        text-align: right;\n",
       "    }\n",
       "</style>\n",
       "<table border=\"1\" class=\"dataframe\">\n",
       "  <thead>\n",
       "    <tr style=\"text-align: right;\">\n",
       "      <th></th>\n",
       "      <th>Model</th>\n",
       "      <th>score</th>\n",
       "    </tr>\n",
       "  </thead>\n",
       "  <tbody>\n",
       "    <tr>\n",
       "      <th>1</th>\n",
       "      <td>Random Forest Regressor</td>\n",
       "      <td>99.90</td>\n",
       "    </tr>\n",
       "    <tr>\n",
       "      <th>4</th>\n",
       "      <td>Xgboost</td>\n",
       "      <td>99.42</td>\n",
       "    </tr>\n",
       "    <tr>\n",
       "      <th>2</th>\n",
       "      <td>Gradient Boosting Regressor</td>\n",
       "      <td>99.37</td>\n",
       "    </tr>\n",
       "    <tr>\n",
       "      <th>6</th>\n",
       "      <td>Cat Boost Regressor</td>\n",
       "      <td>99.26</td>\n",
       "    </tr>\n",
       "    <tr>\n",
       "      <th>5</th>\n",
       "      <td>LGBMRegressor</td>\n",
       "      <td>99.23</td>\n",
       "    </tr>\n",
       "    <tr>\n",
       "      <th>3</th>\n",
       "      <td>Ada Boost Regressor</td>\n",
       "      <td>70.72</td>\n",
       "    </tr>\n",
       "    <tr>\n",
       "      <th>0</th>\n",
       "      <td>Linear Regression</td>\n",
       "      <td>43.00</td>\n",
       "    </tr>\n",
       "  </tbody>\n",
       "</table>\n",
       "</div>"
      ],
      "text/plain": [
       "                         Model  score\n",
       "1      Random Forest Regressor  99.90\n",
       "4                      Xgboost  99.42\n",
       "2  Gradient Boosting Regressor  99.37\n",
       "6          Cat Boost Regressor  99.26\n",
       "5                LGBMRegressor  99.23\n",
       "3          Ada Boost Regressor  70.72\n",
       "0            Linear Regression  43.00"
      ]
     },
     "execution_count": 47,
     "metadata": {},
     "output_type": "execute_result"
    }
   ],
   "source": [
    "modles = pd.DataFrame({'Model':['Linear Regression','Random Forest Regressor','Gradient Boosting Regressor','Ada Boost Regressor','Xgboost','LGBMRegressor',' Cat Boost Regressor'], 'score':[lm_score,rf_score,gb_score,ad_score,xb_score,score_lgb,score_cat]})\n",
    "modles.sort_values(by='score',ascending=False)"
   ]
  },
  {
   "cell_type": "code",
   "execution_count": 48,
   "id": "4b8e5fd3",
   "metadata": {
    "execution": {
     "iopub.execute_input": "2023-07-27T12:44:48.830322Z",
     "iopub.status.busy": "2023-07-27T12:44:48.829697Z",
     "iopub.status.idle": "2023-07-27T12:44:49.413155Z",
     "shell.execute_reply": "2023-07-27T12:44:49.411315Z"
    },
    "papermill": {
     "duration": 0.629226,
     "end_time": "2023-07-27T12:44:49.417191",
     "exception": false,
     "start_time": "2023-07-27T12:44:48.787965",
     "status": "completed"
    },
    "tags": []
   },
   "outputs": [
    {
     "data": {
      "image/png": "[encoded data removed]",
      "text/plain": [
       "<Figure size 1400x500 with 1 Axes>"
      ]
     },
     "metadata": {},
     "output_type": "display_data"
    }
   ],
   "source": [
    "plt.figure(figsize=(14,5))\n",
    "sns.barplot(data=modles,x='Model',y='score')\n",
    "plt.tight_layout()"
   ]
  },
  {
   "cell_type": "markdown",
   "id": "db07347f",
   "metadata": {
    "papermill": {
     "duration": 0.036369,
     "end_time": "2023-07-27T12:44:49.488176",
     "exception": false,
     "start_time": "2023-07-27T12:44:49.451807",
     "status": "completed"
    },
    "tags": []
   },
   "source": [
    "# Ensemble of modles"
   ]
  },
  {
   "cell_type": "code",
   "execution_count": 49,
   "id": "adb00086",
   "metadata": {
    "execution": {
     "iopub.execute_input": "2023-07-27T12:44:49.560233Z",
     "iopub.status.busy": "2023-07-27T12:44:49.559625Z",
     "iopub.status.idle": "2023-07-27T12:44:49.570100Z",
     "shell.execute_reply": "2023-07-27T12:44:49.568558Z"
    },
    "papermill": {
     "duration": 0.050467,
     "end_time": "2023-07-27T12:44:49.573377",
     "exception": false,
     "start_time": "2023-07-27T12:44:49.522910",
     "status": "completed"
    },
    "tags": []
   },
   "outputs": [],
   "source": [
    "# Instantiate the Regressor\n",
    "voting_reg = VotingRegressor(\n",
    "            estimators=[('rf',rf),\n",
    "                        ('cb_reg',cat),\n",
    "                        ('gb',gb ),\n",
    "                        ('lgm',lgmb),\n",
    "                        ('cat',cat)])\n"
   ]
  },
  {
   "cell_type": "code",
   "execution_count": 50,
   "id": "f3d9f3f7",
   "metadata": {
    "execution": {
     "iopub.execute_input": "2023-07-27T12:44:49.647162Z",
     "iopub.status.busy": "2023-07-27T12:44:49.646527Z",
     "iopub.status.idle": "2023-07-27T13:03:59.970472Z",
     "shell.execute_reply": "2023-07-27T13:03:59.968856Z"
    },
    "papermill": {
     "duration": 1150.364425,
     "end_time": "2023-07-27T13:03:59.974271",
     "exception": false,
     "start_time": "2023-07-27T12:44:49.609846",
     "status": "completed"
    },
    "tags": []
   },
   "outputs": [],
   "source": [
    "# Calculate cross validation score for the Voting regresssor\n",
    "scores = cross_val_score(voting_reg, X_train, y_train, scoring=\"neg_mean_squared_error\")"
   ]
  },
  {
   "cell_type": "code",
   "execution_count": 51,
   "id": "53fca488",
   "metadata": {
    "execution": {
     "iopub.execute_input": "2023-07-27T13:04:00.048703Z",
     "iopub.status.busy": "2023-07-27T13:04:00.048158Z",
     "iopub.status.idle": "2023-07-27T13:04:00.054837Z",
     "shell.execute_reply": "2023-07-27T13:04:00.053656Z"
    },
    "papermill": {
     "duration": 0.045952,
     "end_time": "2023-07-27T13:04:00.057385",
     "exception": false,
     "start_time": "2023-07-27T13:04:00.011433",
     "status": "completed"
    },
    "tags": []
   },
   "outputs": [
    {
     "name": "stdout",
     "output_type": "stream",
     "text": [
      "30.93736423404137\n"
     ]
    }
   ],
   "source": [
    "# Given that we have negative MSE score, lets first get the root squares to get RMSE's and then calculate the mean\n",
    "voting_reg_score = np.sqrt(-scores)\n",
    "\n",
    "# Calc mean for RMSE\n",
    "print(voting_reg_score.mean())"
   ]
  },
  {
   "cell_type": "code",
   "execution_count": 52,
   "id": "64d1b7c7",
   "metadata": {
    "execution": {
     "iopub.execute_input": "2023-07-27T13:04:00.140057Z",
     "iopub.status.busy": "2023-07-27T13:04:00.139439Z",
     "iopub.status.idle": "2023-07-27T13:08:22.447580Z",
     "shell.execute_reply": "2023-07-27T13:08:22.445919Z"
    },
    "papermill": {
     "duration": 262.354127,
     "end_time": "2023-07-27T13:08:22.451126",
     "exception": false,
     "start_time": "2023-07-27T13:04:00.096999",
     "status": "completed"
    },
    "tags": []
   },
   "outputs": [],
   "source": [
    "# Fitting the voting regressor on the entire training dataset\n",
    "voting_reg.fit(X_train, y_train)\n",
    "\n",
    "# Predict on test set\n",
    "pred = voting_reg.predict(X_test)"
   ]
  },
  {
   "cell_type": "code",
   "execution_count": 53,
   "id": "fc4d9335",
   "metadata": {
    "execution": {
     "iopub.execute_input": "2023-07-27T13:08:22.523655Z",
     "iopub.status.busy": "2023-07-27T13:08:22.523043Z",
     "iopub.status.idle": "2023-07-27T13:08:22.534919Z",
     "shell.execute_reply": "2023-07-27T13:08:22.533515Z"
    },
    "papermill": {
     "duration": 0.05207,
     "end_time": "2023-07-27T13:08:22.538468",
     "exception": false,
     "start_time": "2023-07-27T13:08:22.486398",
     "status": "completed"
    },
    "tags": []
   },
   "outputs": [],
   "source": [
    "# 'Argentina':1,'Canada':2,'Estonia':3,'Japan':4,'Spain':5\n",
    "# Using diifernt sales for each country to find a frequency.\n",
    "forecast_probed = pd.Series(np.round(pred), index=test.index, copy=True)\n",
    "probed_map = {\n",
    "    1: 3.5,\n",
    "    5 : 1.5,\n",
    "    4 : 1.4,\n",
    "    3 : 1.7,\n",
    "    2 : 0.8,\n",
    "}\n",
    "\n",
    "forecast_probed = np.round(forecast_probed * test['country'].replace(probed_map) , 0)"
   ]
  },
  {
   "cell_type": "markdown",
   "id": "e67ec277",
   "metadata": {
    "papermill": {
     "duration": 0.034608,
     "end_time": "2023-07-27T13:08:22.607547",
     "exception": false,
     "start_time": "2023-07-27T13:08:22.572939",
     "status": "completed"
    },
    "tags": []
   },
   "source": [
    "# Submission"
   ]
  },
  {
   "cell_type": "code",
   "execution_count": 54,
   "id": "184259e9",
   "metadata": {
    "execution": {
     "iopub.execute_input": "2023-07-27T13:08:22.678753Z",
     "iopub.status.busy": "2023-07-27T13:08:22.678087Z",
     "iopub.status.idle": "2023-07-27T13:08:22.712882Z",
     "shell.execute_reply": "2023-07-27T13:08:22.711569Z"
    },
    "papermill": {
     "duration": 0.074215,
     "end_time": "2023-07-27T13:08:22.715873",
     "exception": false,
     "start_time": "2023-07-27T13:08:22.641658",
     "status": "completed"
    },
    "tags": []
   },
   "outputs": [],
   "source": [
    "# import submission file\n",
    "submission = pd.read_csv('/kaggle/input/playground-series-s3e19/sample_submission.csv')"
   ]
  },
  {
   "cell_type": "code",
   "execution_count": 55,
   "id": "449cbb55",
   "metadata": {
    "execution": {
     "iopub.execute_input": "2023-07-27T13:08:22.788087Z",
     "iopub.status.busy": "2023-07-27T13:08:22.787087Z",
     "iopub.status.idle": "2023-07-27T13:08:22.792986Z",
     "shell.execute_reply": "2023-07-27T13:08:22.792015Z"
    },
    "papermill": {
     "duration": 0.044615,
     "end_time": "2023-07-27T13:08:22.795462",
     "exception": false,
     "start_time": "2023-07-27T13:08:22.750847",
     "status": "completed"
    },
    "tags": []
   },
   "outputs": [],
   "source": [
    "# assign predicated value\n",
    "submission['num_sold'] = forecast_probed"
   ]
  },
  {
   "cell_type": "code",
   "execution_count": 56,
   "id": "4abb74e5",
   "metadata": {
    "execution": {
     "iopub.execute_input": "2023-07-27T13:08:22.866908Z",
     "iopub.status.busy": "2023-07-27T13:08:22.865972Z",
     "iopub.status.idle": "2023-07-27T13:08:22.878658Z",
     "shell.execute_reply": "2023-07-27T13:08:22.877568Z"
    },
    "papermill": {
     "duration": 0.051568,
     "end_time": "2023-07-27T13:08:22.881211",
     "exception": false,
     "start_time": "2023-07-27T13:08:22.829643",
     "status": "completed"
    },
    "tags": []
   },
   "outputs": [
    {
     "data": {
      "text/html": [
       "<div>\n",
       "<style scoped>\n",
       "    .dataframe tbody tr th:only-of-type {\n",
       "        vertical-align: middle;\n",
       "    }\n",
       "\n",
       "    .dataframe tbody tr th {\n",
       "        vertical-align: top;\n",
       "    }\n",
       "\n",
       "    .dataframe thead th {\n",
       "        text-align: right;\n",
       "    }\n",
       "</style>\n",
       "<table border=\"1\" class=\"dataframe\">\n",
       "  <thead>\n",
       "    <tr style=\"text-align: right;\">\n",
       "      <th></th>\n",
       "      <th>id</th>\n",
       "      <th>num_sold</th>\n",
       "    </tr>\n",
       "  </thead>\n",
       "  <tbody>\n",
       "    <tr>\n",
       "      <th>0</th>\n",
       "      <td>136950</td>\n",
       "      <td>126.0</td>\n",
       "    </tr>\n",
       "    <tr>\n",
       "      <th>1</th>\n",
       "      <td>136951</td>\n",
       "      <td>126.0</td>\n",
       "    </tr>\n",
       "    <tr>\n",
       "      <th>2</th>\n",
       "      <td>136952</td>\n",
       "      <td>21.0</td>\n",
       "    </tr>\n",
       "    <tr>\n",
       "      <th>3</th>\n",
       "      <td>136953</td>\n",
       "      <td>126.0</td>\n",
       "    </tr>\n",
       "    <tr>\n",
       "      <th>4</th>\n",
       "      <td>136954</td>\n",
       "      <td>102.0</td>\n",
       "    </tr>\n",
       "  </tbody>\n",
       "</table>\n",
       "</div>"
      ],
      "text/plain": [
       "       id  num_sold\n",
       "0  136950     126.0\n",
       "1  136951     126.0\n",
       "2  136952      21.0\n",
       "3  136953     126.0\n",
       "4  136954     102.0"
      ]
     },
     "execution_count": 56,
     "metadata": {},
     "output_type": "execute_result"
    }
   ],
   "source": [
    "submission.head()"
   ]
  },
  {
   "cell_type": "code",
   "execution_count": 57,
   "id": "6dd3cd10",
   "metadata": {
    "execution": {
     "iopub.execute_input": "2023-07-27T13:08:22.954870Z",
     "iopub.status.busy": "2023-07-27T13:08:22.953838Z",
     "iopub.status.idle": "2023-07-27T13:08:23.048161Z",
     "shell.execute_reply": "2023-07-27T13:08:23.046884Z"
    },
    "papermill": {
     "duration": 0.133968,
     "end_time": "2023-07-27T13:08:23.051203",
     "exception": false,
     "start_time": "2023-07-27T13:08:22.917235",
     "status": "completed"
    },
    "tags": []
   },
   "outputs": [],
   "source": [
    "# converting to csv\n",
    "submission.to_csv('submission.csv',index=False)"
   ]
  }
 ],
 "metadata": {
  "kernelspec": {
   "display_name": "Python 3",
   "language": "python",
   "name": "python3"
  },
  "language_info": {
   "codemirror_mode": {
    "name": "ipython",
    "version": 3
   },
   "file_extension": ".py",
   "mimetype": "text/x-python",
   "name": "python",
   "nbconvert_exporter": "python",
   "pygments_lexer": "ipython3",
   "version": "3.10.12"
  },
  "papermill": {
   "default_parameters": {},
   "duration": 1735.32708,
   "end_time": "2023-07-27T13:08:25.677134",
   "environment_variables": {},
   "exception": null,
   "input_path": "__notebook__.ipynb",
   "output_path": "__notebook__.ipynb",
   "parameters": {},
   "start_time": "2023-07-27T12:39:30.350054",
   "version": "2.4.0"
  }
 },
 "nbformat": 4,
 "nbformat_minor": 5
}
